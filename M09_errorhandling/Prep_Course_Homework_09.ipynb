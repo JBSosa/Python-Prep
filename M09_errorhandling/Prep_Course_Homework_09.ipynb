{
 "cells": [
  {
   "attachments": {},
   "cell_type": "markdown",
   "metadata": {},
   "source": [
    "## Manejo de errores"
   ]
  },
  {
   "attachments": {},
   "cell_type": "markdown",
   "metadata": {},
   "source": [
    "1) Con la clase creada en el módulo 7, tener en cuenta diferentes casos en que el código pudiera arrojar error. Por ejemplo, en la creación del objeto recibimos una lista de números enteros pero ¿qué pasa si se envía otro tipo de dato?"
   ]
  },
  {
   "cell_type": "code",
   "execution_count": 137,
   "metadata": {},
   "outputs": [],
   "source": [
    "import sys\n",
    "sys.path.append(r'/C:/Users/Auxiliar Calidad/OneDrive - AVASA/Escritorio/Python-Prep/M08_clasesyOOP/numeros.py')"
   ]
  },
  {
   "cell_type": "code",
   "execution_count": 138,
   "metadata": {},
   "outputs": [
    {
     "data": {
      "text/plain": [
       "<module 'numerosDos' from 'c:\\\\Users\\\\Auxiliar Calidad\\\\OneDrive - AVASA\\\\Escritorio\\\\Python-Prep\\\\M09_errorhandling\\\\numerosDos.py'>"
      ]
     },
     "execution_count": 138,
     "metadata": {},
     "output_type": "execute_result"
    }
   ],
   "source": [
    "#No permite utilizar la dirección porque contiene espacios, se procede a crear un nuevo módulo en la misma carpeta\n",
    "import numerosDos as n\n",
    "from importlib import reload\n",
    "reload(n)"
   ]
  },
  {
   "cell_type": "code",
   "execution_count": 139,
   "metadata": {},
   "outputs": [
    {
     "ename": "ValueError",
     "evalue": "El tipo de variable no es una lista.",
     "output_type": "error",
     "traceback": [
      "\u001b[1;31m---------------------------------------------------------------------------\u001b[0m",
      "\u001b[1;31mValueError\u001b[0m                                Traceback (most recent call last)",
      "\u001b[1;32mc:\\Users\\Auxiliar Calidad\\OneDrive - AVASA\\Escritorio\\Python-Prep\\M09_errorhandling\\Prep_Course_Homework_09.ipynb Cell 5\u001b[0m line \u001b[0;36m1\n\u001b[1;32m----> <a href='vscode-notebook-cell:/c%3A/Users/Auxiliar%20Calidad/OneDrive%20-%20AVASA/Escritorio/Python-Prep/M09_errorhandling/Prep_Course_Homework_09.ipynb#X22sZmlsZQ%3D%3D?line=0'>1</a>\u001b[0m n1\u001b[39m=\u001b[39mn\u001b[39m.\u001b[39;49mlistaNumero(\u001b[39m'\u001b[39;49m\u001b[39mazúcar\u001b[39;49m\u001b[39m'\u001b[39;49m)\n\u001b[0;32m      <a href='vscode-notebook-cell:/c%3A/Users/Auxiliar%20Calidad/OneDrive%20-%20AVASA/Escritorio/Python-Prep/M09_errorhandling/Prep_Course_Homework_09.ipynb#X22sZmlsZQ%3D%3D?line=1'>2</a>\u001b[0m n1\u001b[39m.\u001b[39mmas_repetido()\n",
      "File \u001b[1;32mc:\\Users\\Auxiliar Calidad\\OneDrive - AVASA\\Escritorio\\Python-Prep\\M09_errorhandling\\numerosDos.py:4\u001b[0m, in \u001b[0;36mlistaNumero.__init__\u001b[1;34m(self, lista)\u001b[0m\n\u001b[0;32m      2\u001b[0m \u001b[39mdef\u001b[39;00m \u001b[39m__init__\u001b[39m(\u001b[39mself\u001b[39m,lista):\n\u001b[0;32m      3\u001b[0m     \u001b[39mif\u001b[39;00m \u001b[39mtype\u001b[39m(lista)\u001b[39m!=\u001b[39m\u001b[39mlist\u001b[39m:\n\u001b[1;32m----> 4\u001b[0m         \u001b[39mraise\u001b[39;00m \u001b[39mValueError\u001b[39;00m(\u001b[39m'\u001b[39m\u001b[39mEl tipo de variable no es una lista.\u001b[39m\u001b[39m'\u001b[39m)\n\u001b[0;32m      5\u001b[0m     \u001b[39melif\u001b[39;00m listaNumero\u001b[39m==\u001b[39m[]:\n\u001b[0;32m      6\u001b[0m         \u001b[39mraise\u001b[39;00m \u001b[39mValueError\u001b[39;00m(\u001b[39m'\u001b[39m\u001b[39mSe ingresó una lista vacía.\u001b[39m\u001b[39m'\u001b[39m)\n",
      "\u001b[1;31mValueError\u001b[0m: El tipo de variable no es una lista."
     ]
    }
   ],
   "source": [
    "n1=n.listaNumero('azúcar')\n",
    "n1.mas_repetido()"
   ]
  },
  {
   "attachments": {},
   "cell_type": "markdown",
   "metadata": {},
   "source": [
    "2) En la función que hace la conversión de grados, validar que los parámetros enviados sean los esperados, de no serlo, informar cuáles son los valores esperados."
   ]
  },
  {
   "cell_type": "code",
   "execution_count": null,
   "metadata": {},
   "outputs": [
    {
     "ename": "ValueError",
     "evalue": "Datos erróneos, se espera C, K, o F como variables de origen/destino.",
     "output_type": "error",
     "traceback": [
      "\u001b[1;31m---------------------------------------------------------------------------\u001b[0m",
      "\u001b[1;31mValueError\u001b[0m                                Traceback (most recent call last)",
      "\u001b[1;32mc:\\Users\\Auxiliar Calidad\\OneDrive - AVASA\\Escritorio\\Python-Prep\\M09_errorhandling\\Prep_Course_Homework_09.ipynb Cell 7\u001b[0m line \u001b[0;36m2\n\u001b[0;32m      <a href='vscode-notebook-cell:/c%3A/Users/Auxiliar%20Calidad/OneDrive%20-%20AVASA/Escritorio/Python-Prep/M09_errorhandling/Prep_Course_Homework_09.ipynb#W4sZmlsZQ%3D%3D?line=0'>1</a>\u001b[0m n2\u001b[39m=\u001b[39mn\u001b[39m.\u001b[39mlistaNumero([\u001b[39m1\u001b[39m,\u001b[39m2\u001b[39m,\u001b[39m2\u001b[39m,\u001b[39m3\u001b[39m,\u001b[39m4\u001b[39m])\n\u001b[1;32m----> <a href='vscode-notebook-cell:/c%3A/Users/Auxiliar%20Calidad/OneDrive%20-%20AVASA/Escritorio/Python-Prep/M09_errorhandling/Prep_Course_Homework_09.ipynb#W4sZmlsZQ%3D%3D?line=1'>2</a>\u001b[0m n2\u001b[39m.\u001b[39;49mcelsius_farenheit_kelvin(\u001b[39m3\u001b[39;49m,\u001b[39m4\u001b[39;49m)\n",
      "File \u001b[1;32mc:\\Users\\Auxiliar Calidad\\OneDrive - AVASA\\Escritorio\\Python-Prep\\M09_errorhandling\\numerosDos.py:43\u001b[0m, in \u001b[0;36mlistaNumero.celsius_farenheit_kelvin\u001b[1;34m(self, origen, destino)\u001b[0m\n\u001b[0;32m     41\u001b[0m         resultado\u001b[39m=\u001b[39m(resultado\u001b[39m*\u001b[39m(\u001b[39m9\u001b[39m\u001b[39m/\u001b[39m\u001b[39m5\u001b[39m))\u001b[39m+\u001b[39m\u001b[39m32\u001b[39m\n\u001b[0;32m     42\u001b[0m \u001b[39melse\u001b[39;00m:\n\u001b[1;32m---> 43\u001b[0m     \u001b[39mraise\u001b[39;00m \u001b[39mValueError\u001b[39;00m(\u001b[39m'\u001b[39m\u001b[39mDatos erróneos, se espera C, K, o F como variables de origen/destino.\u001b[39m\u001b[39m'\u001b[39m)\n\u001b[0;32m     44\u001b[0m \u001b[39mprint\u001b[39m(\u001b[39m\"\u001b[39m\u001b[39m{}\u001b[39;00m\u001b[39m grado \u001b[39m\u001b[39m{}\u001b[39;00m\u001b[39m es igual a \u001b[39m\u001b[39m{}\u001b[39;00m\u001b[39m grados \u001b[39m\u001b[39m{}\u001b[39;00m\u001b[39m\"\u001b[39m\u001b[39m.\u001b[39mformat(i,origen,resultado,destino))\n",
      "\u001b[1;31mValueError\u001b[0m: Datos erróneos, se espera C, K, o F como variables de origen/destino."
     ]
    }
   ],
   "source": [
    "n2=n.listaNumero([1,2,2,3,4])\n",
    "n2.celsius_farenheit_kelvin(3,4)"
   ]
  },
  {
   "attachments": {},
   "cell_type": "markdown",
   "metadata": {},
   "source": [
    "3) Importar el modulo \"unittest\" y crear los siguientes casos de pruebas sobre la clase utilizada en el punto 2<br>\n",
    "Creacion del objeto incorrecta<br>\n",
    "Creacion correcta del objeto<br>\n",
    "Metodo valor_modal()<br>\n",
    "\n",
    "Se puede usar \"raise ValueError()\" en la creación de la clase para verificar el error. Investigar sobre esta funcionalidad."
   ]
  },
  {
   "cell_type": "code",
   "execution_count": null,
   "metadata": {},
   "outputs": [],
   "source": [
    "import unittest as u\n",
    "class PruebaNumeros(u.TestCase):\n",
    "\n",
    "    def testObjeto(self):\n",
    "        input='azucar'\n",
    "        self.assertRaises(ValueError,n.listaNumero,input)\n",
    "    \n",
    "    def testObjetoCorrecto(self):\n",
    "        input=[1,2,3,4]\n",
    "        n1=n.listaNumero(input)\n",
    "        self.assertEqual(n1.lista,input)\n",
    "\n",
    "    def testValorModal(self):\n",
    "        input=[1,2,3,4,5,5]\n",
    "        n1=n.listaNumero(input)\n",
    "        resultado=5\n",
    "        self.assertEqual(n1.mas_repetido(),resultado)\n"
   ]
  },
  {
   "attachments": {},
   "cell_type": "markdown",
   "metadata": {},
   "source": [
    "4) Probar una creación incorrecta y visualizar la salida del \"raise\""
   ]
  },
  {
   "cell_type": "code",
   "execution_count": null,
   "metadata": {},
   "outputs": [
    {
     "name": "stderr",
     "output_type": "stream",
     "text": [
      "testObjeto (__main__.PruebaNumeros.testObjeto) ... ok\n",
      "testObjetoCorrecto (__main__.PruebaNumeros.testObjetoCorrecto) ... ok\n",
      "testValorModal (__main__.PruebaNumeros.testValorModal) ... ok\n",
      "\n",
      "----------------------------------------------------------------------\n",
      "Ran 3 tests in 0.007s\n",
      "\n",
      "OK\n"
     ]
    },
    {
     "name": "stdout",
     "output_type": "stream",
     "text": [
      "El elemento más repetido de la lista es 5\n"
     ]
    },
    {
     "data": {
      "text/plain": [
       "<unittest.main.TestProgram at 0x2601696b650>"
      ]
     },
     "execution_count": 68,
     "metadata": {},
     "output_type": "execute_result"
    }
   ],
   "source": [
    "u.main(argv=[''], verbosity=2, exit=False)"
   ]
  },
  {
   "attachments": {},
   "cell_type": "markdown",
   "metadata": {},
   "source": [
    "6) Agregar casos de pruebas para el método verifica_primos() realizando el cambio en la clase, para que devuelva una lista de True o False en función de que el elemento en la posisicón sea o no primo"
   ]
  },
  {
   "cell_type": "code",
   "execution_count": 142,
   "metadata": {},
   "outputs": [],
   "source": [
    "class PruebaPrimos(u.TestCase):\n",
    "    def testPrimosTrueFalse(self):\n",
    "        input=[1,2,3,4,5]\n",
    "        n1=n.listaNumero(input)\n",
    "        resultado=[False,True,True,False,True]\n",
    "        self.assertEqual(n1.es_primo(),resultado)"
   ]
  },
  {
   "cell_type": "code",
   "execution_count": null,
   "metadata": {},
   "outputs": [
    {
     "name": "stderr",
     "output_type": "stream",
     "text": [
      "testObjeto (__main__.PruebaNumeros.testObjeto) ... ok\n",
      "testObjetoCorrecto (__main__.PruebaNumeros.testObjetoCorrecto) ... ok\n",
      "testValorModal (__main__.PruebaNumeros.testValorModal) ... ok\n",
      "testPrimosTrueFalse (__main__.PruebaPrimos.testPrimosTrueFalse) ... ok\n",
      "\n",
      "----------------------------------------------------------------------\n",
      "Ran 4 tests in 0.008s\n",
      "\n",
      "OK\n"
     ]
    },
    {
     "name": "stdout",
     "output_type": "stream",
     "text": [
      "El elemento más repetido de la lista es 5\n",
      "El número 1 no es primo.\n",
      "El número 2 es primo.\n",
      "El número 3 es primo.\n",
      "El número 4 no es primo.\n",
      "El número 5 es primo.\n"
     ]
    },
    {
     "data": {
      "text/plain": [
       "<unittest.main.TestProgram at 0x260141c2c10>"
      ]
     },
     "execution_count": 118,
     "metadata": {},
     "output_type": "execute_result"
    }
   ],
   "source": [
    "reload(n)\n",
    "reload(u)\n",
    "u.main(argv=[''], verbosity=2, exit=False)"
   ]
  },
  {
   "attachments": {},
   "cell_type": "markdown",
   "metadata": {},
   "source": [
    "7) Agregar casos de pruebas para el método conversion_grados()"
   ]
  },
  {
   "cell_type": "code",
   "execution_count": 141,
   "metadata": {},
   "outputs": [],
   "source": [
    "class PruebaGrados(u.TestCase):\n",
    "    def testTipoDeDato(self):\n",
    "        n1=n.listaNumero([1,2,3,4,5])\n",
    "        resultado=[274.15,275.15,276.15,277.15,278.15]\n",
    "        self.assertEqual(n1.celsius_farenheit_kelvin('C','K'),resultado)"
   ]
  },
  {
   "cell_type": "code",
   "execution_count": 143,
   "metadata": {},
   "outputs": [
    {
     "name": "stderr",
     "output_type": "stream",
     "text": [
      "testTipoDeDato (__main__.PruebaGrados.testTipoDeDato) ... ok\n",
      "testObjeto (__main__.PruebaNumeros.testObjeto) ... ok\n",
      "testObjetoCorrecto (__main__.PruebaNumeros.testObjetoCorrecto) ... ok\n",
      "testValorModal (__main__.PruebaNumeros.testValorModal) ... ok\n",
      "testPrimosTrueFalse (__main__.PruebaPrimos.testPrimosTrueFalse) ... ok\n",
      "\n",
      "----------------------------------------------------------------------\n",
      "Ran 5 tests in 0.007s\n",
      "\n",
      "OK\n"
     ]
    },
    {
     "name": "stdout",
     "output_type": "stream",
     "text": [
      "1 grado C es igual a 274.15 grados K\n",
      "2 grado C es igual a 275.15 grados K\n",
      "3 grado C es igual a 276.15 grados K\n",
      "4 grado C es igual a 277.15 grados K\n",
      "5 grado C es igual a 278.15 grados K\n",
      "El elemento más repetido de la lista es 5\n",
      "El número 1 no es primo.\n",
      "El número 2 es primo.\n",
      "El número 3 es primo.\n",
      "El número 4 no es primo.\n",
      "El número 5 es primo.\n"
     ]
    },
    {
     "data": {
      "text/plain": [
       "<unittest.main.TestProgram at 0x260169dfbd0>"
      ]
     },
     "execution_count": 143,
     "metadata": {},
     "output_type": "execute_result"
    }
   ],
   "source": [
    "reload(n)\n",
    "reload(u)\n",
    "u.main(argv=[''], verbosity=2, exit=False)"
   ]
  },
  {
   "attachments": {},
   "cell_type": "markdown",
   "metadata": {},
   "source": [
    "8) Agregar casos de pruebas para el método factorial()"
   ]
  },
  {
   "cell_type": "code",
   "execution_count": 146,
   "metadata": {},
   "outputs": [],
   "source": [
    "class PruebaFactorial(u.TestCase):\n",
    "    def testFactorial(self):\n",
    "        input=[1,2,3,4,5]\n",
    "        n1=n.listaNumero(input)\n",
    "        resultado=[1,2,6,24,120]\n",
    "        self.assertEqual(n1.factorial(),resultado)"
   ]
  },
  {
   "cell_type": "code",
   "execution_count": 147,
   "metadata": {},
   "outputs": [
    {
     "name": "stderr",
     "output_type": "stream",
     "text": [
      "testFactorial (__main__.PruebaFactorial.testFactorial) ... ok\n",
      "testTipoDeDato (__main__.PruebaGrados.testTipoDeDato) ... ok\n",
      "testObjeto (__main__.PruebaNumeros.testObjeto) ... ok\n",
      "testObjetoCorrecto (__main__.PruebaNumeros.testObjetoCorrecto) ... ok\n",
      "testValorModal (__main__.PruebaNumeros.testValorModal) ... ok\n",
      "testPrimosTrueFalse (__main__.PruebaPrimos.testPrimosTrueFalse) ... ok\n",
      "\n",
      "----------------------------------------------------------------------\n",
      "Ran 6 tests in 0.012s\n",
      "\n",
      "OK\n"
     ]
    },
    {
     "name": "stdout",
     "output_type": "stream",
     "text": [
      "El factorial de 1 es 1\n",
      "El factorial de 2 es 2\n",
      "El factorial de 3 es 6\n",
      "El factorial de 4 es 24\n",
      "El factorial de 5 es 120\n",
      "1 grado C es igual a 274.15 grados K\n",
      "2 grado C es igual a 275.15 grados K\n",
      "3 grado C es igual a 276.15 grados K\n",
      "4 grado C es igual a 277.15 grados K\n",
      "5 grado C es igual a 278.15 grados K\n",
      "El elemento más repetido de la lista es 5\n",
      "El número 1 no es primo.\n",
      "El número 2 es primo.\n",
      "El número 3 es primo.\n",
      "El número 4 no es primo.\n",
      "El número 5 es primo.\n"
     ]
    },
    {
     "data": {
      "text/plain": [
       "<unittest.main.TestProgram at 0x260161813d0>"
      ]
     },
     "execution_count": 147,
     "metadata": {},
     "output_type": "execute_result"
    }
   ],
   "source": [
    "reload(n)\n",
    "reload(u)\n",
    "u.main(argv=[''], verbosity=2, exit=False)"
   ]
  }
 ],
 "metadata": {
  "interpreter": {
   "hash": "c85384e4cb51c8b72350f3a8712cc8351fdc3955e32a27f9b60c6242ab125f01"
  },
  "kernelspec": {
   "display_name": "Python 3 (ipykernel)",
   "language": "python",
   "name": "python3"
  },
  "language_info": {
   "codemirror_mode": {
    "name": "ipython",
    "version": 3
   },
   "file_extension": ".py",
   "mimetype": "text/x-python",
   "name": "python",
   "nbconvert_exporter": "python",
   "pygments_lexer": "ipython3",
   "version": "3.11.4"
  }
 },
 "nbformat": 4,
 "nbformat_minor": 4
}
