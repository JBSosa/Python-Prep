{
 "cells": [
  {
   "attachments": {},
   "cell_type": "markdown",
   "metadata": {},
   "source": [
    "## Clases y Programación Orientada a Objetos"
   ]
  },
  {
   "attachments": {},
   "cell_type": "markdown",
   "metadata": {},
   "source": [
    "1) Crear la clase vehículo que contenga los atributos:<br>\n",
    "Color<br>\n",
    "Si es moto, auto, camioneta ó camión<br>\n",
    "Cilindrada del motor"
   ]
  },
  {
   "cell_type": "code",
   "execution_count": 20,
   "metadata": {},
   "outputs": [],
   "source": [
    "class Vehiculo:\n",
    "    def __init__(self,tipo,color,cilindrada):\n",
    "        self.tipo=tipo\n",
    "        self.color=color\n",
    "        self.cilindrada=cilindrada"
   ]
  },
  {
   "attachments": {},
   "cell_type": "markdown",
   "metadata": {},
   "source": [
    "2) A la clase Vehiculo creada en el punto 1, agregar los siguientes métodos:<br>\n",
    "Acelerar<br>\n",
    "Frenar<br>\n",
    "Doblar<br>"
   ]
  },
  {
   "cell_type": "code",
   "execution_count": 21,
   "metadata": {},
   "outputs": [],
   "source": [
    "class Vehiculo:\n",
    "    def __init__(self,tipo,color,cilindrada):\n",
    "        self.tipo=tipo\n",
    "        self.color=color\n",
    "        self.cilindrada=cilindrada\n",
    "    def acelerar(self,aceleracion):\n",
    "        if self.tipo==\"auto\"or self.tipo==\"camión\":\n",
    "            print(\"El \",self.tipo,\" color\",self.color,\" acelera \",str(aceleracion),\" km/h.\")\n",
    "        elif self.tipo==\"moto\"or self.tipo==\"camioneta\":\n",
    "            print(\"La \",self.tipo,\" color\",self.color,\" acelera \",str(aceleracion),\" km/h.\")\n",
    "        else:\n",
    "            print(\"Tipo de vehículo incorrecto\")\n",
    "    def frenar(self):\n",
    "        if self.tipo==\"auto\" or self.tipo==\"camión\":\n",
    "            print(\"El \",self.tipo,\" color\",self.color,\" frena.\")\n",
    "        elif self.tipo==\"moto\" or self.tipo==\"camioneta\":\n",
    "            print(\"La \",self.tipo,\" color\",self.color,\" frena.\")\n",
    "        else:\n",
    "            print(\"Tipo de vehículo incorrecto\")\n",
    "    def doblar(self,direccion):\n",
    "        if self.tipo==\"auto\" or  self.tipo==\"camión\":\n",
    "            print(\"El\",self.tipo,\"color\",self.color,\" dobla a la \",direccion,\".\")\n",
    "        elif self.tipo==\"moto\"or self.tipo==\"camioneta\":\n",
    "            print(\"La \",self.tipo,\" color\",self.color,\" dobla a la \",direccion,\".\")\n",
    "        else:\n",
    "            print(\"Tipo de vehículo incorrecto\")"
   ]
  },
  {
   "attachments": {},
   "cell_type": "markdown",
   "metadata": {},
   "source": [
    "3) Instanciar 3 objetos de la clase vehículo y ejecutar sus métodos, probar luego el resultado"
   ]
  },
  {
   "cell_type": "code",
   "execution_count": 22,
   "metadata": {},
   "outputs": [
    {
     "name": "stdout",
     "output_type": "stream",
     "text": [
      "La  moto  color rojo  acelera  60  km/h.\n",
      "El  auto  color azul  frena.\n",
      "La  camioneta  color negro  dobla a la  derecha .\n"
     ]
    }
   ],
   "source": [
    "moto=Vehiculo('moto','rojo',8)\n",
    "auto=Vehiculo('auto','azul',4)\n",
    "camioneta=Vehiculo('camioneta','negro',16)\n",
    "moto.acelerar(60)\n",
    "auto.frenar()\n",
    "camioneta.doblar('derecha')\n",
    "\n"
   ]
  },
  {
   "attachments": {},
   "cell_type": "markdown",
   "metadata": {},
   "source": [
    "4) Agregar a la clase Vehiculo, un método que muestre su estado, es decir, a que velocidad se encuentra y su dirección. Y otro método que muestre color, tipo y cilindrada"
   ]
  },
  {
   "cell_type": "code",
   "execution_count": 23,
   "metadata": {},
   "outputs": [
    {
     "name": "stdout",
     "output_type": "stream",
     "text": [
      "La  moto  color rojo  acelera  60  km/h.\n",
      "La  moto  color rojo  dobla a la  derecha .\n",
      "Velocidad: 60 km/h. Dirección: derecha\n",
      "Tipo: moto Color: rojo Cilindrada: 8 cilindros.\n"
     ]
    }
   ],
   "source": [
    "class Vehiculo:\n",
    "    def __init__(self,tipo,color,cilindrada):\n",
    "        self.tipo=tipo\n",
    "        self.color=color\n",
    "        self.cilindrada=cilindrada\n",
    "        self.velocidad=0\n",
    "        self.direccion=\"recto\"\n",
    "    def acelerar(self,aceleracion):\n",
    "        if self.tipo==\"auto\"or self.tipo==\"camión\":\n",
    "            self.velocidad+=aceleracion\n",
    "            print(\"El \",self.tipo,\" color\",self.color,\" acelera \",str(self.velocidad),\" km/h.\")\n",
    "        elif self.tipo==\"moto\"or self.tipo==\"camioneta\":\n",
    "            self.velocidad+=aceleracion\n",
    "            print(\"La \",self.tipo,\" color\",self.color,\" acelera \",str(self.velocidad),\" km/h.\")\n",
    "        else:\n",
    "            print(\"Tipo de vehículo incorrecto\")\n",
    "    def frenar(self):\n",
    "        if self.tipo==\"auto\" or self.tipo==\"camión\":\n",
    "            self.velocidad=0\n",
    "            print(\"El \",self.tipo,\" color\",self.color,\" frena.\")\n",
    "        elif self.tipo==\"moto\" or self.tipo==\"camioneta\":\n",
    "            self.velocidad=0\n",
    "            print(\"La \",self.tipo,\" color\",self.color,\" frena.\")\n",
    "        else:\n",
    "            print(\"Tipo de vehículo incorrecto\")\n",
    "    def doblar(self,direccion):\n",
    "        if self.tipo==\"auto\" or  self.tipo==\"camión\":\n",
    "            self.direccion=direccion\n",
    "            print(\"El\",self.tipo,\"color\",self.color,\" dobla a la \",direccion,\".\")\n",
    "        elif self.tipo==\"moto\"or self.tipo==\"camioneta\":\n",
    "            self.direccion=direccion\n",
    "            print(\"La \",self.tipo,\" color\",self.color,\" dobla a la \",direccion,\".\")\n",
    "        else:\n",
    "            print(\"Tipo de vehículo incorrecto\")\n",
    "    def estado(self):\n",
    "        if self.tipo==\"auto\" or self.tipo==\"camión\" or self.tipo==\"moto\" or self.tipo==\"camioneta\":\n",
    "            print(\"Velocidad:\",self.velocidad,\"km/h. Dirección:\",self.direccion)\n",
    "        else:\n",
    "            print(\"Tipo de vehículo incorrecto\")\n",
    "    def descripcion(self):\n",
    "        if self.tipo==\"auto\" or self.tipo==\"camión\" or self.tipo==\"moto\" or self.tipo==\"camioneta\":\n",
    "            print(\"Tipo:\",self.tipo,\"Color:\",self.color,\"Cilindrada:\",self.cilindrada,\"cilindros.\")\n",
    "        else:\n",
    "            print(\"Tipo de vehículo incorrecto\")\n",
    "moto=Vehiculo('moto','rojo',8)\n",
    "moto.acelerar(60)\n",
    "moto.doblar(\"derecha\")\n",
    "moto.estado()\n",
    "moto.descripcion()"
   ]
  },
  {
   "attachments": {},
   "cell_type": "markdown",
   "metadata": {},
   "source": [
    "5) Crear una clase que permita utilizar las funciones creadas en la práctica del módulo 7<br>\n",
    "Verificar Primo<br>\n",
    "Valor modal<br>\n",
    "Conversión grados<br>\n",
    "Factorial<br>"
   ]
  },
  {
   "cell_type": "code",
   "execution_count": 24,
   "metadata": {},
   "outputs": [],
   "source": [
    "class Numero:\n",
    "    def __init__(self,num):\n",
    "        self.num=num\n",
    "    def es_primo(self):\n",
    "        divisor=1\n",
    "        primo=True\n",
    "        while divisor<=self.num:\n",
    "            if self.num<=1:\n",
    "                primo=False\n",
    "                break\n",
    "            if self.num%divisor==0 and divisor!=1 and divisor!=self.num:\n",
    "                primo=False\n",
    "                break\n",
    "            divisor+=1\n",
    "        if primo==True:\n",
    "            print(\"El número {} es primo.\".format(self.num))\n",
    "        else:\n",
    "            print(\"El número {} no es primo.\".format(self.num))\n",
    "    def celsius_farenheit_kelvin(self,origen,destino):\n",
    "        if origen==destino:\n",
    "            resultado=self.num\n",
    "        elif origen==\"C\" and destino==\"F\":\n",
    "            resultado=(self.num*(9/5))+32\n",
    "        elif origen==\"C\" and destino==\"K\":\n",
    "            resultado=(self.num+273.15)\n",
    "        elif origen==\"F\":\n",
    "            resultado=(self.num-32/1.8)\n",
    "            if destino==\"K\":\n",
    "                resultado+=273.15\n",
    "        elif origen==\"K\":\n",
    "            resultado=self.num-273.15\n",
    "            if destino==\"F\":\n",
    "                resultado=(resultado*(9/5))+32\n",
    "        print(\"{} grado {} es igual a {} grados {}\".format(self.num,origen,resultado,destino))\n",
    "    def factorial(self):\n",
    "        num=self.num\n",
    "        if num>=0 and type(num)==int:\n",
    "            factor=num-1\n",
    "            while factor >=1:\n",
    "                num=num*factor\n",
    "                factor-=1\n",
    "            print('El factorial de {} es {}'.format(self.num,num))\n",
    "        elif type(num)==float:\n",
    "            num=\"inválido\"\n",
    "            print('No se admiten números no enteros.')\n",
    "        elif num<0:\n",
    "            num=\"inválido\"\n",
    "            print('No se aceptan números negativos')\n",
    "        elif num==1:\n",
    "            print('El factorial de 1 es 1')\n",
    "    def mas_repetido(self):\n",
    "        lista=self.num\n",
    "        posicion=0\n",
    "        elemento_mas_repetido=None\n",
    "        while posicion < len(lista):\n",
    "            if lista.count(lista[posicion])>lista.count(lista[posicion-1]) and posicion>0:\n",
    "                elemento_mas_repetido=lista[posicion]\n",
    "            posicion+=1\n",
    "        if type(self.num)==list and elemento_mas_repetido!=None:\n",
    "            print('El elemento más repetido de la lista es {}'.format(elemento_mas_repetido))\n",
    "        elif type(self.num)!=list:\n",
    "            print('El objeto no es una lista.')\n",
    "        else:\n",
    "            print('No hay elementos repetidos.')\n",
    "\n",
    "        "
   ]
  },
  {
   "attachments": {},
   "cell_type": "markdown",
   "metadata": {},
   "source": [
    "6) Probar las funciones incorporadas en la clase del punto 5"
   ]
  },
  {
   "cell_type": "code",
   "execution_count": 25,
   "metadata": {},
   "outputs": [
    {
     "name": "stdout",
     "output_type": "stream",
     "text": [
      "El número 5 es primo.\n",
      "5 grado C es igual a 278.15 grados K\n",
      "El factorial de 5 es 120\n",
      "No hay elementos repetidos.\n"
     ]
    }
   ],
   "source": [
    "uno=Numero(5)\n",
    "uno.es_primo()\n",
    "uno.celsius_farenheit_kelvin('C','K')\n",
    "uno.factorial()\n",
    "lista=Numero([1,2,3])\n",
    "lista.mas_repetido()"
   ]
  },
  {
   "attachments": {},
   "cell_type": "markdown",
   "metadata": {},
   "source": [
    "7) Es necesario que la clase creada en el punto 5 contenga una lista, sobre la cual se apliquen las funciones incorporadas"
   ]
  },
  {
   "cell_type": "code",
   "execution_count": 26,
   "metadata": {},
   "outputs": [],
   "source": [
    "class listaNumero:\n",
    "    def __init__(self,lista):\n",
    "        self.lista=lista\n",
    "    def es_primo(self):\n",
    "        divisor=1\n",
    "        primo=True\n",
    "        for i in self.lista:\n",
    "            while divisor<=i:\n",
    "                if i<=1:\n",
    "                    primo=False\n",
    "                    break\n",
    "                if i%divisor==0 and divisor!=1 and divisor!=i:\n",
    "                    primo=False\n",
    "                    break\n",
    "                divisor+=1\n",
    "            if primo==True:\n",
    "                print(\"El número {} es primo.\".format(i))\n",
    "            else:\n",
    "                print(\"El número {} no es primo.\".format(i))\n",
    "    def celsius_farenheit_kelvin(self,origen,destino):\n",
    "        lista=self.lista\n",
    "        for i in lista:\n",
    "            if origen==destino:\n",
    "                resultado=i\n",
    "            elif origen==\"C\" and destino==\"F\":\n",
    "                resultado=float((i*(9/5))+32)\n",
    "            elif origen==\"C\" and destino==\"K\":\n",
    "                resultado=float(i+273.15)\n",
    "            elif origen==\"F\":\n",
    "                resultado=float(i-32/1.8)\n",
    "                if destino==\"K\":\n",
    "                    resultado+=273.15\n",
    "            elif origen==\"K\":\n",
    "                resultado=lista[i]-273.15\n",
    "                if destino==\"F\":\n",
    "                    resultado=(resultado*(9/5))+32\n",
    "            print(\"{} grado {} es igual a {} grados {}\".format(i,origen,resultado,destino))\n",
    "    def factorial(self):\n",
    "        lista=self.lista\n",
    "        for i in lista:\n",
    "            inicial=i\n",
    "            if i==1:\n",
    "                print('El factorial de 1 es 1')\n",
    "            elif i>=0 and type(i)==int:\n",
    "                factor=i-1\n",
    "                while factor >=1:\n",
    "                    i=i*factor\n",
    "                    factor-=1\n",
    "                print('El factorial de {} es {}'.format(inicial,i))\n",
    "            elif type(i)==float:\n",
    "                i=\"inválido\"\n",
    "                print('No se admiten números no enteros.')\n",
    "            elif i<0:\n",
    "                i=\"inválido\"\n",
    "                print('No se aceptan números negativos')\n",
    "            \n",
    "    def mas_repetido(self):\n",
    "        lista=self.lista\n",
    "        posicion=0\n",
    "        elemento_mas_repetido=None\n",
    "        while posicion < len(lista):\n",
    "            if lista.count(lista[posicion])>lista.count(lista[posicion-1]) and posicion>0:\n",
    "                elemento_mas_repetido=lista[posicion]\n",
    "            posicion+=1\n",
    "        if type(self.lista)==list and elemento_mas_repetido!=None:\n",
    "                print('El elemento más repetido de la lista es {}'.format(elemento_mas_repetido))\n",
    "        elif type(self.lista)!=list:\n",
    "            print('El objeto no es una lista.')\n",
    "        else:\n",
    "            print('No hay elementos repetidos.')"
   ]
  },
  {
   "attachments": {},
   "cell_type": "markdown",
   "metadata": {},
   "source": [
    "8) Crear un archivo .py aparte y ubicar allí la clase generada en el punto anterior. Luego realizar la importación del módulo y probar alguna de sus funciones"
   ]
  },
  {
   "cell_type": "code",
   "execution_count": 27,
   "metadata": {},
   "outputs": [
    {
     "name": "stdout",
     "output_type": "stream",
     "text": [
      "El número 1 no es primo.\n",
      "El número 12 no es primo.\n",
      "El número 55 no es primo.\n",
      "El número 3 es primo.\n",
      "El factorial de 1 es 1\n",
      "El factorial de 12 es 479001600\n",
      "El factorial de 55 es 12696403353658275925965100847566516959580321051449436762275840000000000000\n",
      "El factorial de 3 es 6\n",
      "No hay elementos repetidos.\n",
      "1 grado C es igual a 274.15 grados K\n",
      "12 grado C es igual a 285.15 grados K\n",
      "55 grado C es igual a 328.15 grados K\n",
      "3 grado C es igual a 276.15 grados K\n"
     ]
    }
   ],
   "source": [
    "import numeros\n",
    "from importlib import reload\n",
    "reload(numeros)\n",
    "\n",
    "lista=numeros.listaNumero([1,12,55,3])\n",
    "lista.es_primo()\n",
    "lista.factorial()\n",
    "lista.mas_repetido()\n",
    "lista.celsius_farenheit_kelvin('C','K')"
   ]
  }
 ],
 "metadata": {
  "interpreter": {
   "hash": "c85384e4cb51c8b72350f3a8712cc8351fdc3955e32a27f9b60c6242ab125f01"
  },
  "kernelspec": {
   "display_name": "Python 3 (ipykernel)",
   "language": "python",
   "name": "python3"
  },
  "language_info": {
   "codemirror_mode": {
    "name": "ipython",
    "version": 3
   },
   "file_extension": ".py",
   "mimetype": "text/x-python",
   "name": "python",
   "nbconvert_exporter": "python",
   "pygments_lexer": "ipython3",
   "version": "3.11.4"
  }
 },
 "nbformat": 4,
 "nbformat_minor": 4
}
