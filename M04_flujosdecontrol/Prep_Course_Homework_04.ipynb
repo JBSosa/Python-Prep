{
 "cells": [
  {
   "attachments": {},
   "cell_type": "markdown",
   "metadata": {},
   "source": [
    "## Flujos de Control"
   ]
  },
  {
   "attachments": {},
   "cell_type": "markdown",
   "metadata": {},
   "source": [
    "1) Crear una variable que contenga un elemento del conjunto de números enteros y luego imprimir por pantalla si es mayor o menor a cero"
   ]
  },
  {
   "cell_type": "code",
   "execution_count": 2,
   "metadata": {},
   "outputs": [
    {
     "name": "stdout",
     "output_type": "stream",
     "text": [
      "Num es mayor a cero\n"
     ]
    }
   ],
   "source": [
    "num=1\n",
    "if num>0:\n",
    "    print(\"Num es mayor a cero\")\n",
    "elif num<0:\n",
    "    print(\"Num es menor a cero\")"
   ]
  },
  {
   "attachments": {},
   "cell_type": "markdown",
   "metadata": {},
   "source": [
    "2) Crear dos variables y un condicional que informe si son del mismo tipo de dato"
   ]
  },
  {
   "cell_type": "code",
   "execution_count": 4,
   "metadata": {},
   "outputs": [
    {
     "name": "stdout",
     "output_type": "stream",
     "text": [
      "Las variables son del mismo tipo\n"
     ]
    }
   ],
   "source": [
    "a=1\n",
    "b=2\n",
    "if type(a)==type(b):\n",
    "    print(\"Las variables son del mismo tipo\")"
   ]
  },
  {
   "attachments": {},
   "cell_type": "markdown",
   "metadata": {},
   "source": [
    "3) Para los valores enteros del 1 al 20, imprimir por pantalla si es par o impar"
   ]
  },
  {
   "cell_type": "code",
   "execution_count": 9,
   "metadata": {},
   "outputs": [
    {
     "name": "stdout",
     "output_type": "stream",
     "text": [
      "El número  1  es impar.\n",
      "El número  2  es par.\n",
      "El número  3  es impar.\n",
      "El número  4  es par.\n",
      "El número  5  es impar.\n",
      "El número  6  es par.\n",
      "El número  7  es impar.\n",
      "El número  8  es par.\n",
      "El número  9  es impar.\n",
      "El número  10  es par.\n",
      "El número  11  es impar.\n",
      "El número  12  es par.\n",
      "El número  13  es impar.\n",
      "El número  14  es par.\n",
      "El número  15  es impar.\n",
      "El número  16  es par.\n",
      "El número  17  es impar.\n",
      "El número  18  es par.\n",
      "El número  19  es impar.\n",
      "El número  20  es par.\n"
     ]
    }
   ],
   "source": [
    "a=1\n",
    "while a<=20:\n",
    "    if a%2==0:\n",
    "        print(\"El número \",a,\" es par.\")\n",
    "    else:\n",
    "        print(\"El número \",a,\" es impar.\")\n",
    "    a+=1"
   ]
  },
  {
   "attachments": {},
   "cell_type": "markdown",
   "metadata": {},
   "source": [
    "4) En un ciclo for mostrar para los valores entre 0 y 5 el resultado de elevarlo a la potencia igual a 3"
   ]
  },
  {
   "cell_type": "code",
   "execution_count": 13,
   "metadata": {},
   "outputs": [
    {
     "name": "stdout",
     "output_type": "stream",
     "text": [
      "Valor =  0\n",
      "Valor elevado a la 3 =  0\n",
      "Valor =  1\n",
      "Valor elevado a la 3 =  1\n",
      "Valor =  2\n",
      "Valor elevado a la 3 =  8\n",
      "Valor =  3\n",
      "Valor elevado a la 3 =  27\n",
      "Valor =  4\n",
      "Valor elevado a la 3 =  64\n",
      "Valor =  5\n",
      "Valor elevado a la 3 =  125\n"
     ]
    }
   ],
   "source": [
    "a=0\n",
    "while a<=5:\n",
    "    print(\"Valor = \",a)\n",
    "    print(\"Valor elevado a la 3 = \",a**3)\n",
    "    a+=1"
   ]
  },
  {
   "attachments": {},
   "cell_type": "markdown",
   "metadata": {},
   "source": [
    "5) Crear una variable que contenga un número entero y realizar un ciclo for la misma cantidad de ciclos"
   ]
  },
  {
   "cell_type": "code",
   "execution_count": 16,
   "metadata": {},
   "outputs": [
    {
     "name": "stdout",
     "output_type": "stream",
     "text": [
      "5\n"
     ]
    }
   ],
   "source": [
    "a=5\n",
    "for i in range(0,a):\n",
    "    pass\n",
    "print(a)"
   ]
  },
  {
   "attachments": {},
   "cell_type": "markdown",
   "metadata": {},
   "source": [
    "6) Utilizar un ciclo while para realizar el factorial de un número guardado en una variable, sólo si la variable contiene un número entero mayor a 0"
   ]
  },
  {
   "cell_type": "code",
   "execution_count": 18,
   "metadata": {},
   "outputs": [
    {
     "name": "stdout",
     "output_type": "stream",
     "text": [
      "120\n"
     ]
    }
   ],
   "source": [
    "a=5\n",
    "if a>0:\n",
    "    factorial=a-1\n",
    "    while factorial>0:\n",
    "        a=a*factorial\n",
    "        factorial-=1\n",
    "print(a)"
   ]
  },
  {
   "attachments": {},
   "cell_type": "markdown",
   "metadata": {},
   "source": [
    "7) Crear un ciclo for dentro de un ciclo while"
   ]
  },
  {
   "cell_type": "code",
   "execution_count": 24,
   "metadata": {},
   "outputs": [
    {
     "name": "stdout",
     "output_type": "stream",
     "text": [
      "0\n",
      "1\n",
      "2\n",
      "3\n",
      "4\n",
      "5\n",
      "0\n",
      "1\n",
      "2\n",
      "3\n",
      "4\n",
      "0\n",
      "1\n",
      "2\n",
      "3\n",
      "0\n",
      "1\n",
      "2\n",
      "0\n",
      "1\n"
     ]
    }
   ],
   "source": [
    "a=5\n",
    "while a>0:\n",
    "    for num in range(0,a+1):\n",
    "        print(num)\n",
    "    a-=1"
   ]
  },
  {
   "attachments": {},
   "cell_type": "markdown",
   "metadata": {},
   "source": [
    "8) Crear un ciclo while dentro de un ciclo for"
   ]
  },
  {
   "cell_type": "code",
   "execution_count": 26,
   "metadata": {},
   "outputs": [
    {
     "name": "stdout",
     "output_type": "stream",
     "text": [
      "Ciclo for:  0\n",
      "Ciclo while:  5\n",
      "Ciclo while:  4\n",
      "Ciclo while:  3\n",
      "Ciclo while:  2\n",
      "Ciclo while:  1\n",
      "Ciclo for:  1\n",
      "Ciclo for:  2\n",
      "Ciclo for:  3\n",
      "Ciclo for:  4\n"
     ]
    }
   ],
   "source": [
    "a=5\n",
    "for num in range(0,a):\n",
    "    print(\"Ciclo for: \",num)\n",
    "    while a>0:\n",
    "        print(\"Ciclo while: \",a)\n",
    "        a-=1"
   ]
  },
  {
   "attachments": {},
   "cell_type": "markdown",
   "metadata": {},
   "source": [
    "9) Imprimir los números primos existentes entre 0 y 30"
   ]
  },
  {
   "cell_type": "code",
   "execution_count": 9,
   "metadata": {},
   "outputs": [
    {
     "name": "stdout",
     "output_type": "stream",
     "text": [
      "El número  2  es primo.\n",
      "El número  3  es primo.\n",
      "El número  5  es primo.\n",
      "El número  7  es primo.\n",
      "El número  11  es primo.\n",
      "El número  13  es primo.\n",
      "El número  17  es primo.\n",
      "El número  19  es primo.\n",
      "El número  23  es primo.\n",
      "El número  29  es primo.\n"
     ]
    }
   ],
   "source": [
    "for num in range(0,31):\n",
    "    primo=True\n",
    "    a=1\n",
    "    while a<=num:\n",
    "        if num%a==0:\n",
    "            if num!=a and a!=1:\n",
    "                primo=False\n",
    "                a+=1\n",
    "                break\n",
    "        a+=1\n",
    "    if primo==True and num!=0 and num !=1:\n",
    "        print(\"El número \",str(num),\" es primo.\")\n"
   ]
  },
  {
   "attachments": {},
   "cell_type": "markdown",
   "metadata": {},
   "source": [
    "10) ¿Se puede mejorar el proceso del punto 9? Utilizar las sentencias break y/ó continue para tal fin"
   ]
  },
  {
   "cell_type": "code",
   "execution_count": null,
   "metadata": {},
   "outputs": [],
   "source": [
    "#Ya utilicé break"
   ]
  },
  {
   "attachments": {},
   "cell_type": "markdown",
   "metadata": {},
   "source": [
    "11) En los puntos 9 y 10, se diseño un código que encuentra números primos y además se lo optimizó. ¿Es posible saber en qué medida se optimizó?"
   ]
  },
  {
   "cell_type": "code",
   "execution_count": null,
   "metadata": {},
   "outputs": [],
   "source": [
    "#Sí, comparando el tiempo de ejecución de ambos códigos."
   ]
  },
  {
   "attachments": {},
   "cell_type": "markdown",
   "metadata": {},
   "source": [
    "12) Aplicando continue, armar un ciclo while que solo imprima los valores divisibles por 12, dentro del rango de números de 100 a 300"
   ]
  },
  {
   "cell_type": "code",
   "execution_count": 15,
   "metadata": {},
   "outputs": [
    {
     "name": "stdout",
     "output_type": "stream",
     "text": [
      "El número  108  es divisible entre 12.\n",
      "El número  120  es divisible entre 12.\n",
      "El número  132  es divisible entre 12.\n",
      "El número  144  es divisible entre 12.\n",
      "El número  156  es divisible entre 12.\n",
      "El número  168  es divisible entre 12.\n",
      "El número  180  es divisible entre 12.\n",
      "El número  192  es divisible entre 12.\n",
      "El número  204  es divisible entre 12.\n",
      "El número  216  es divisible entre 12.\n",
      "El número  228  es divisible entre 12.\n",
      "El número  240  es divisible entre 12.\n",
      "El número  252  es divisible entre 12.\n",
      "El número  264  es divisible entre 12.\n",
      "El número  276  es divisible entre 12.\n",
      "El número  288  es divisible entre 12.\n",
      "El número  300  es divisible entre 12.\n"
     ]
    }
   ],
   "source": [
    "num=100\n",
    "while num <=300:\n",
    "    if num%12==0:\n",
    "        print(\"El número \",str(num),\" es divisible entre 12.\")\n",
    "    num+=1"
   ]
  },
  {
   "attachments": {},
   "cell_type": "markdown",
   "metadata": {},
   "source": [
    "13) Utilizar la función **input()** que permite hacer ingresos por teclado, para encontrar números primos y dar la opción al usario de buscar el siguiente"
   ]
  },
  {
   "cell_type": "code",
   "execution_count": 27,
   "metadata": {},
   "outputs": [
    {
     "name": "stdout",
     "output_type": "stream",
     "text": [
      "Ingrese el número con el que quiere iniciar.\n",
      "Número inicial:  0\n",
      "El número  2  es el siguiente número primo.\n",
      "¿Desea continuar? (y,n)\n",
      "Respuesta:  y\n",
      "El número  3  es el siguiente número primo.\n",
      "¿Desea continuar? (y,n)\n",
      "Respuesta:  y\n",
      "El número  5  es el siguiente número primo.\n",
      "¿Desea continuar? (y,n)\n",
      "Respuesta:  y\n",
      "El número  7  es el siguiente número primo.\n",
      "¿Desea continuar? (y,n)\n",
      "Respuesta:  y\n",
      "El número  11  es el siguiente número primo.\n",
      "¿Desea continuar? (y,n)\n",
      "Respuesta:  y\n",
      "El número  13  es el siguiente número primo.\n",
      "¿Desea continuar? (y,n)\n",
      "Respuesta:  y\n",
      "El número  17  es el siguiente número primo.\n",
      "¿Desea continuar? (y,n)\n",
      "Respuesta:  y\n",
      "El número  19  es el siguiente número primo.\n",
      "¿Desea continuar? (y,n)\n",
      "Respuesta:  y\n",
      "El número  23  es el siguiente número primo.\n",
      "¿Desea continuar? (y,n)\n",
      "Respuesta:  y\n",
      "El número  29  es el siguiente número primo.\n",
      "¿Desea continuar? (y,n)\n",
      "Respuesta:  y\n",
      "El número  31  es el siguiente número primo.\n",
      "¿Desea continuar? (y,n)\n",
      "Respuesta:  y\n",
      "El número  37  es el siguiente número primo.\n",
      "¿Desea continuar? (y,n)\n",
      "Respuesta:  n\n",
      "Finaliza el proceso.\n"
     ]
    }
   ],
   "source": [
    "continuar=\"y\"\n",
    "print(\"Ingrese el número con el que quiere iniciar.\")\n",
    "num=int(input())\n",
    "print(\"Número inicial: \",str(num))\n",
    "while continuar==\"y\":\n",
    "    num+=1\n",
    "    primo=True\n",
    "    a=1    \n",
    "    while a<=num:\n",
    "        if num%a==0:\n",
    "            if num!=a and a!=1:\n",
    "                primo=False\n",
    "                a+=1\n",
    "                break\n",
    "        a+=1\n",
    "    if primo==True and num!=0 and num !=1:\n",
    "        print(\"El número \",str(num),\" es el siguiente número primo.\")\n",
    "        print(\"¿Desea continuar? (y,n)\")\n",
    "        continuar=input()\n",
    "        print(\"Respuesta: \",str(continuar))\n",
    "print(\"Finaliza el proceso.\")\n"
   ]
  },
  {
   "attachments": {},
   "cell_type": "markdown",
   "metadata": {},
   "source": [
    "14) Crear un ciclo while que encuentre dentro del rango de 100 a 300 el primer número divisible por 3 y además múltiplo de 6"
   ]
  },
  {
   "cell_type": "code",
   "execution_count": 17,
   "metadata": {},
   "outputs": [
    {
     "name": "stdout",
     "output_type": "stream",
     "text": [
      "El número  102  es el primer múltiplo de 6 entre 100 y 300 divisible entre 3.\n"
     ]
    }
   ],
   "source": [
    "num=100\n",
    "while num <=300 and num%3!=0 and num%6!=0:\n",
    "    num+=1\n",
    "print(\"El número \",str(num),\" es el primer múltiplo de 6 entre 100 y 300 divisible entre 3.\")"
   ]
  }
 ],
 "metadata": {
  "interpreter": {
   "hash": "c85384e4cb51c8b72350f3a8712cc8351fdc3955e32a27f9b60c6242ab125f01"
  },
  "kernelspec": {
   "display_name": "Python 3 (ipykernel)",
   "language": "python",
   "name": "python3"
  },
  "language_info": {
   "codemirror_mode": {
    "name": "ipython",
    "version": 3
   },
   "file_extension": ".py",
   "mimetype": "text/x-python",
   "name": "python",
   "nbconvert_exporter": "python",
   "pygments_lexer": "ipython3",
   "version": "3.11.4"
  }
 },
 "nbformat": 4,
 "nbformat_minor": 4
}
