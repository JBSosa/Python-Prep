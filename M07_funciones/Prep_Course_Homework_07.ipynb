{
 "cells": [
  {
   "attachments": {},
   "cell_type": "markdown",
   "metadata": {},
   "source": [
    "## Funciones"
   ]
  },
  {
   "attachments": {},
   "cell_type": "markdown",
   "metadata": {},
   "source": [
    "1) Crear una función que reciba un número como parámetro y devuelva True si es primo y False si no lo es"
   ]
  },
  {
   "cell_type": "code",
   "execution_count": 25,
   "metadata": {},
   "outputs": [
    {
     "name": "stdout",
     "output_type": "stream",
     "text": [
      "El número 104729 es primo.\n"
     ]
    }
   ],
   "source": [
    "def es_primo(num):\n",
    "    divisor=1\n",
    "    primo=True\n",
    "    while divisor<=num:\n",
    "        if num<=1:\n",
    "            primo=False\n",
    "            break\n",
    "        if num%divisor==0 and divisor!=1 and divisor!=num:\n",
    "            primo=False\n",
    "            break\n",
    "        divisor+=1\n",
    "    return primo\n",
    "num=int(input())\n",
    "if es_primo(num)==True:\n",
    "    print(\"El número {} es primo.\".format(num))\n",
    "else:\n",
    "    print(\"El número {} no es primo.\".format(num))"
   ]
  },
  {
   "attachments": {},
   "cell_type": "markdown",
   "metadata": {},
   "source": [
    "2) Utilizando la función del punto 1, realizar otra función que reciba de parámetro una lista de números y devuelva sólo aquellos que son primos en otra lista"
   ]
  },
  {
   "cell_type": "code",
   "execution_count": 19,
   "metadata": {},
   "outputs": [
    {
     "name": "stdout",
     "output_type": "stream",
     "text": [
      "[2, 3, 5, 7]\n"
     ]
    }
   ],
   "source": [
    "lista_uno=[1,2,3,4,5,6,7,8,9]\n",
    "lista_primos=[]\n",
    "for num in lista_uno:\n",
    "    if es_primo(num)==True:\n",
    "        lista_primos.append(num)\n",
    "print(lista_primos)"
   ]
  },
  {
   "attachments": {},
   "cell_type": "markdown",
   "metadata": {},
   "source": [
    "3) Crear una función que al recibir una lista de números, devuelva el que más se repite y cuántas veces lo hace. Si hay más de un \"más repetido\", que devuelva cualquiera"
   ]
  },
  {
   "cell_type": "code",
   "execution_count": 38,
   "metadata": {},
   "outputs": [
    {
     "name": "stdout",
     "output_type": "stream",
     "text": [
      "El 5 es el elemento más repetido con 3 apariciones.\n"
     ]
    }
   ],
   "source": [
    "def mas_repetido(lista):\n",
    "    posicion=0\n",
    "    elemento_mas_repetido=None\n",
    "    while posicion < len(lista):\n",
    "        if lista.count(lista[posicion])>lista.count(lista[posicion-1]) and posicion>0:\n",
    "            elemento_mas_repetido=lista[posicion]\n",
    "        posicion+=1\n",
    "    return elemento_mas_repetido\n",
    "lista_uno=[5,4,3,2,1,5,4,3,2,1,5]\n",
    "elemento=mas_repetido(lista_uno)\n",
    "print(\"El {} es el elemento más repetido con {} apariciones.\".format(elemento,lista_uno.count(elemento)))\n"
   ]
  },
  {
   "attachments": {},
   "cell_type": "markdown",
   "metadata": {},
   "source": [
    "4) Crear una función que convierta entre grados Celsius, Farenheit y Kelvin<br>\n",
    "Fórmula 1\t: (°C × 9/5) + 32 = °F<br>\n",
    "Fórmula 2\t: °C + 273.15 = °K<br>\n",
    "Debe recibir 3 parámetros: el valor, la medida de orígen y la medida de destino\n"
   ]
  },
  {
   "cell_type": "code",
   "execution_count": 43,
   "metadata": {},
   "outputs": [
    {
     "name": "stdout",
     "output_type": "stream",
     "text": [
      "1 grado Celsius a Celsius: 1\n",
      "1 grado Celsius a Kelvin: 274.15\n",
      "1 grado Celsius a Farenheit: 33.8\n",
      "1 grado Kelvin a Celsius: -272.15\n",
      "1 grado Kelvin a Kelvin: 1\n",
      "1 grado Kelvin a Farenheit: -457.86999999999995\n",
      "1 grado Farenheit a Celsius: -17.22222222222222\n",
      "1 grado Farenheit a Kelvin: 255.92777777777775\n",
      "1 grado Farenheit a Farenheit: 1\n"
     ]
    }
   ],
   "source": [
    "def celsius_farenheit_kelvin(valor,origen,destino):\n",
    "    if origen==destino:\n",
    "        resultado=valor\n",
    "    elif origen==\"C\" and destino==\"F\":\n",
    "        resultado=(valor*(9/5))+32\n",
    "    elif origen==\"C\" and destino==\"K\":\n",
    "        resultado=valor+273.15\n",
    "    elif origen==\"F\":\n",
    "        resultado=(valor-32)/1.8\n",
    "        if destino==\"K\":\n",
    "            resultado+=273.15\n",
    "    elif origen==\"K\":\n",
    "        resultado=valor-273.15\n",
    "        if destino==\"F\":\n",
    "            resultado=(resultado*(9/5))+32\n",
    "    return resultado\n",
    "\n",
    "print('1 grado Celsius a Celsius:', celsius_farenheit_kelvin(1, 'C', 'C'))\n",
    "print('1 grado Celsius a Kelvin:', celsius_farenheit_kelvin(1, 'C', 'K'))\n",
    "print('1 grado Celsius a Farenheit:', celsius_farenheit_kelvin(1, 'C', 'F'))\n",
    "print('1 grado Kelvin a Celsius:', celsius_farenheit_kelvin(1, 'K', 'C'))\n",
    "print('1 grado Kelvin a Kelvin:', celsius_farenheit_kelvin(1, 'K', 'K'))\n",
    "print('1 grado Kelvin a Farenheit:', celsius_farenheit_kelvin(1, 'K', 'F'))\n",
    "print('1 grado Farenheit a Celsius:', celsius_farenheit_kelvin(1, 'F', 'C'))\n",
    "print('1 grado Farenheit a Kelvin:', celsius_farenheit_kelvin(1, 'F', 'K'))\n",
    "print('1 grado Farenheit a Farenheit:', celsius_farenheit_kelvin(1, 'F', 'F'))"
   ]
  },
  {
   "attachments": {},
   "cell_type": "markdown",
   "metadata": {},
   "source": [
    "5) Iterando una lista con los tres valores posibles de temperatura que recibe la función del punto 5, hacer un print para cada combinación de los mismos:"
   ]
  },
  {
   "cell_type": "code",
   "execution_count": 49,
   "metadata": {},
   "outputs": [
    {
     "name": "stdout",
     "output_type": "stream",
     "text": [
      "1°C a °C: 1°C\n",
      "1°C a °F: 33.8°F\n",
      "1°C a °K: 274.15°K\n",
      "1°F a °C: -17.22222222222222°C\n",
      "1°F a °F: 1°F\n",
      "1°F a °K: 255.92777777777775°K\n",
      "1°K a °C: -272.15°C\n",
      "1°K a °F: -457.86999999999995°F\n",
      "1°K a °K: 1°K\n"
     ]
    }
   ],
   "source": [
    "grados=[\"C\",'F','K']\n",
    "\n",
    "posicion_origen=0\n",
    "posicion_destino=0\n",
    "\n",
    "while posicion_origen<len(grados):\n",
    "    while posicion_destino<len(grados):\n",
    "        print('1°{} a °{}: {}°{}'.format(grados[posicion_origen],grados[posicion_destino],celsius_farenheit_kelvin(1,grados[posicion_origen],grados[posicion_destino]),grados[posicion_destino]))\n",
    "        posicion_destino+=1\n",
    "    posicion_origen+=1\n",
    "    posicion_destino=0"
   ]
  },
  {
   "attachments": {},
   "cell_type": "markdown",
   "metadata": {},
   "source": [
    "6) Armar una función que devuelva el factorial de un número. Tener en cuenta que el usuario puede equivocarse y enviar de parámetro un número no entero o negativo"
   ]
  },
  {
   "cell_type": "code",
   "execution_count": 67,
   "metadata": {},
   "outputs": [
    {
     "name": "stdout",
     "output_type": "stream",
     "text": [
      "No se admiten números no enteros.\n",
      "El factorial de 5.5 es inválido\n"
     ]
    }
   ],
   "source": [
    "def factorial(num):\n",
    "    if num>=0 and type(num)==int:\n",
    "        factor=num-1\n",
    "        while factor >=1:\n",
    "            num=num*factor\n",
    "            factor-=1\n",
    "    elif type(num)==float:\n",
    "        num=\"inválido\"\n",
    "        print('No se admiten números no enteros.')\n",
    "    elif num<0:\n",
    "        num=\"inválido\"\n",
    "        print('No se aceptan números negativos')\n",
    "    return num\n",
    "num=input()\n",
    "if num.isdigit():\n",
    "    num=int(num)\n",
    "    print(\"El factorial de {} es {}\".format(num,factorial(num)))\n",
    "elif \".\" in num:\n",
    "    num=float(num)\n",
    "    print(\"El factorial de {} es {}\".format(num,factorial(num)))\n",
    "else:\n",
    "    print(\"Solo se admiten números.\")"
   ]
  }
 ],
 "metadata": {
  "interpreter": {
   "hash": "c85384e4cb51c8b72350f3a8712cc8351fdc3955e32a27f9b60c6242ab125f01"
  },
  "kernelspec": {
   "display_name": "Python 3 (ipykernel)",
   "language": "python",
   "name": "python3"
  },
  "language_info": {
   "codemirror_mode": {
    "name": "ipython",
    "version": 3
   },
   "file_extension": ".py",
   "mimetype": "text/x-python",
   "name": "python",
   "nbconvert_exporter": "python",
   "pygments_lexer": "ipython3",
   "version": "3.11.4"
  }
 },
 "nbformat": 4,
 "nbformat_minor": 4
}
